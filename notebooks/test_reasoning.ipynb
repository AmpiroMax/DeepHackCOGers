{
 "cells": [
  {
   "cell_type": "markdown",
   "metadata": {},
   "source": [
    "# Reasoning test\n",
    "This file is attempt to recreate result from 'test_cogapi.ipynb'. The only difference is that here we are using the whole pipeline, e.t.c. requesting model through it's reasoning module."
   ]
  },
  {
   "cell_type": "code",
   "execution_count": 1,
   "metadata": {},
   "outputs": [],
   "source": [
    "from src.data.csv_table import CsvTable\n",
    "from src.models.model import COGAgent, AgentAnswer\n",
    "from src.shemas.enums import COGFuncEnum\n",
    "from langchain_community.document_loaders import PyPDFLoader\n",
    "\n",
    "%load_ext autoreload\n",
    "%autoreload 2"
   ]
  },
  {
   "cell_type": "code",
   "execution_count": 13,
   "metadata": {},
   "outputs": [],
   "source": [
    "AUTH_TOKEN = \"NTlkY2MyZmItM2Q4ZC00ZWMzLWE2NjAtNTI3MzZhOTk2ZjQzOjVhZGJiZDQxLTc0YjAtNDQxNi04YjAzLTUxZDVmYTY4NTkwNw==\"\n",
    "PDF_PATHS = [\n",
    "    \"/Users/ampiro/programs/HACKATONS/DeepHackCOGers/data/raw/zsp.pdf\",\n",
    "    \"/Users/ampiro/programs/HACKATONS/DeepHackCOGers/data/raw/rt2.pdf\",\n",
    "    \"/Users/ampiro/programs/HACKATONS/DeepHackCOGers/data/raw/PanovRL.pdf\",\n",
    "    \"/Users/ampiro/programs/HACKATONS/DeepHackCOGers/data/raw/llmp.pdf\"\n",
    "]\n",
    "TABLE_PATH = \"/Users/ampiro/programs/HACKATONS/DeepHackCOGers/data/raw/table.csv\"\n",
    "PROMPTS = \"/Users/ampiro/programs/HACKATONS/DeepHackCOGers/config/prompts_v1.json\"\n",
    "\n",
    "requests = [\n",
    "    \"Привет! Кто ты и что умеешь?\",\n",
    "    \"Хорошо! Меня зовут Максим и я хочу писать обзоры на статьи.\",\n",
    "    \"Как меня зовут и чем хочу заниматься?\",\n",
    "    \"Найди информацию из статьи по каждому пункту: sarsa, q-learning, TD.\",\n",
    "    \"Уменьши свой ответ в два раза.\",\n",
    "    \"Молодец!\",\n",
    "    \"Напиши обзор на книгу.\",\n",
    "    \"ответь короче\"\n",
    "]\n",
    "\n",
    "real_names = [\n",
    "    \"chat\",\n",
    "    \"chat\",\n",
    "    \"chat\",\n",
    "    \"get_structured_overview\",\n",
    "    \"chat\",\n",
    "    \"chat\",\n",
    "    \"get_overview\",\n",
    "    \"chat\",\n",
    "]"
   ]
  },
  {
   "cell_type": "code",
   "execution_count": 3,
   "metadata": {},
   "outputs": [],
   "source": [
    "loader = PyPDFLoader(PDF_PATHS[2])\n",
    "pdf_file = loader.load()"
   ]
  },
  {
   "cell_type": "code",
   "execution_count": 7,
   "metadata": {},
   "outputs": [],
   "source": [
    "model = COGAgent(AUTH_TOKEN, PROMPTS)"
   ]
  },
  {
   "cell_type": "code",
   "execution_count": 14,
   "metadata": {},
   "outputs": [
    {
     "name": "stdout",
     "output_type": "stream",
     "text": [
      "chat\n",
      "chat\n",
      "chat\n",
      "get_structured_overview\n",
      "chat\n",
      "chat\n",
      "get_overview\n",
      "chat\n"
     ]
    }
   ],
   "source": [
    "for req in requests:\n",
    "    func = model.reasoner(req)\n",
    "    print(func.name)"
   ]
  },
  {
   "cell_type": "code",
   "execution_count": null,
   "metadata": {},
   "outputs": [],
   "source": []
  },
  {
   "cell_type": "code",
   "execution_count": null,
   "metadata": {},
   "outputs": [],
   "source": []
  }
 ],
 "metadata": {
  "kernelspec": {
   "display_name": "cogers",
   "language": "python",
   "name": "python3"
  },
  "language_info": {
   "codemirror_mode": {
    "name": "ipython",
    "version": 3
   },
   "file_extension": ".py",
   "mimetype": "text/x-python",
   "name": "python",
   "nbconvert_exporter": "python",
   "pygments_lexer": "ipython3",
   "version": "3.10.14"
  }
 },
 "nbformat": 4,
 "nbformat_minor": 2
}
