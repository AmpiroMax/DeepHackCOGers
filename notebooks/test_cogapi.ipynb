{
 "cells": [
  {
   "cell_type": "code",
   "execution_count": 1,
   "metadata": {},
   "outputs": [],
   "source": [
    "from src.data.csv_table import CsvTable\n",
    "from src.models.model import COGAgent, ModelAnswer\n",
    "from src.shemas.enums import COGFuncEnum\n",
    "from langchain_community.document_loaders import PyPDFLoader\n",
    "\n",
    "%load_ext autoreload\n",
    "%autoreload 2"
   ]
  },
  {
   "cell_type": "code",
   "execution_count": 2,
   "metadata": {},
   "outputs": [],
   "source": [
    "AUTH_TOKEN = \"NTlkY2MyZmItM2Q4ZC00ZWMzLWE2NjAtNTI3MzZhOTk2ZjQzOjVhZGJiZDQxLTc0YjAtNDQxNi04YjAzLTUxZDVmYTY4NTkwNw==\"\n",
    "PDF_PATHS = [\n",
    "    \"/Users/ampiro/programs/HACKATONS/DeepHackCOGers/data/raw/zsp.pdf\",\n",
    "    \"/Users/ampiro/programs/HACKATONS/DeepHackCOGers/data/raw/rt2.pdf\",\n",
    "    \"/Users/ampiro/programs/HACKATONS/DeepHackCOGers/data/raw/PanovRL.pdf\",\n",
    "    \"/Users/ampiro/programs/HACKATONS/DeepHackCOGers/data/raw/llmp.pdf\"\n",
    "]\n",
    "TABLE_PATH = \"/Users/ampiro/programs/HACKATONS/DeepHackCOGers/data/raw/table.csv\"\n",
    "PROMPTS = \"/Users/ampiro/programs/HACKATONS/DeepHackCOGers/config/prompts_v1.json\""
   ]
  },
  {
   "cell_type": "code",
   "execution_count": 3,
   "metadata": {},
   "outputs": [],
   "source": [
    "loader = PyPDFLoader(PDF_PATHS[2])\n",
    "pdf_file = loader.load()"
   ]
  },
  {
   "cell_type": "code",
   "execution_count": 4,
   "metadata": {},
   "outputs": [],
   "source": [
    "table = CsvTable(TABLE_PATH)\n",
    "headers = table.get_headers()"
   ]
  },
  {
   "cell_type": "code",
   "execution_count": 5,
   "metadata": {},
   "outputs": [],
   "source": [
    "model = COGAgent(AUTH_TOKEN, PROMPTS)"
   ]
  },
  {
   "cell_type": "code",
   "execution_count": 6,
   "metadata": {},
   "outputs": [
    {
     "name": "stdout",
     "output_type": "stream",
     "text": [
      "Здравствуйте! Я — ваш персональный научный ассистент.\n",
      "Могу вести с вами научные беседы, писать статьи и обзоры на них, сравнивать статьи между собой и добавлять обзоры в таблицы.\n"
     ]
    }
   ],
   "source": [
    "print(model.chat(\"Привет! Кто ты и что умеешь?\").answer.replace(\". \", \".\\n\"))"
   ]
  },
  {
   "cell_type": "code",
   "execution_count": 7,
   "metadata": {},
   "outputs": [
    {
     "name": "stdout",
     "output_type": "stream",
     "text": [
      "Здравствуйте, Максим! Очень рада знакомству.\n",
      "Какие статьи вы хотели бы обобщить?\n"
     ]
    }
   ],
   "source": [
    "print(model.chat(\"Хорошо! Меня зовут Максим и я хочу писать обзоры на статьи.\").answer.replace(\". \", \".\\n\"))"
   ]
  },
  {
   "cell_type": "code",
   "execution_count": 8,
   "metadata": {},
   "outputs": [
    {
     "name": "stdout",
     "output_type": "stream",
     "text": [
      "Вы уже знаете ответ на этот вопрос.\n",
      "Вас зовут Максим, и вы хотите писать обзоры на статьи.\n"
     ]
    }
   ],
   "source": [
    "print(model.chat(\"Как меня зовут и чем хочу заниматься?\").answer.replace(\". \", \".\\n\"))"
   ]
  },
  {
   "cell_type": "code",
   "execution_count": 9,
   "metadata": {},
   "outputs": [
    {
     "name": "stdout",
     "output_type": "stream",
     "text": [
      "SARSA:\n",
      "Основная идея алгоритма SARSA заключается в использовании таблицы Q-значений для обучения агентов в задачах с подкреплением.\n",
      "Алгоритм использует переменные состояния, действия, текущее состояние (𝑠), предыдущее действие (𝑎), следующее состояние (𝑟) и следующее действие (𝑎′).\n",
      "Он обновляет таблицу Q-значений, используя функцию исследования среды 𝑓(𝑣, 𝑛) и переменную 𝛼.\n",
      "\n",
      "Q-learning:\n",
      "Основные принципы Q-обучения включают оценку полезности каждого действия отдельно и определение оптимальной стратегии.\n",
      "Для этого вводится Q-функция, которая определяется аналогично значениям V.\n",
      "\n",
      "TD:\n",
      "TD (Temporal Difference) - это метод обучения, который используется в обучении с подкреплением.\n",
      "Он основан на принципе бутстрепа и позволяет агенту обновлять оценки полезности состояний, учитывая полезности как текущего, так и предыдущих состояний.\n",
      "Это делает обучение более эффективным и позволяет агенту принимать более обоснованные решения.\n",
      "\n",
      "\n"
     ]
    }
   ],
   "source": [
    "prompt = f\"Найди информацию из статьи по каждому пункту: sarsa, q-learning, TD.\"\n",
    "ans = model.get_structured_overview(pdf_file, prompt).answer\n",
    "print(ans.replace(\". \", \".\\n\"))"
   ]
  },
  {
   "cell_type": "code",
   "execution_count": 10,
   "metadata": {},
   "outputs": [
    {
     "name": "stdout",
     "output_type": "stream",
     "text": [
      "Алгоритм SARSA использует таблицу Q-значений для обучения агентов в задачах с подкреплением.\n",
      "Он обновляет таблицу Q-значений, используя функцию исследования среды 𝑓(𝑣, 𝑛) и переменную 𝛼.\n",
      "Q-learning оценивает полезность каждого действия отдельно и определяет оптимальную стратегию.\n",
      "TD (Temporal Difference) - метод обучения, основанный на принципе бутстрепа и позволяющий агенту обновлять оценки полезности состояний, учитывая полезности как текущего, так и предыдущих состояний.\n"
     ]
    }
   ],
   "source": [
    "print(model.chat(\"Уменьши текст обзора в два раза.\").answer.replace(\". \", \".\\n\"))"
   ]
  },
  {
   "cell_type": "code",
   "execution_count": 11,
   "metadata": {},
   "outputs": [
    {
     "name": "stdout",
     "output_type": "stream",
     "text": [
      "Спасибо!\n"
     ]
    }
   ],
   "source": [
    "print(model.chat(\"Молодец!\").answer.replace(\". \", \".\\n\"))"
   ]
  },
  {
   "cell_type": "code",
   "execution_count": 12,
   "metadata": {},
   "outputs": [
    {
     "name": "stdout",
     "output_type": "stream",
     "text": [
      "Книга \"Введение в методы машинного обучения с подкреплением\" представляет собой учебное пособие, которое рассматривает основные понятия и алгоритмы машинного обучения с подкреплением.\n",
      "В ней описываются методы динамического программирования, методы временных разностей, градиентные и иерархические методы.\n",
      "Книга \"Методы искусственного интеллекта\" Осипова Г.С.\n",
      "представляет обзор различных методов и подходов к созданию интеллектуальных систем.\n",
      "Книга \"Обучение с подкреплением\" Саттона Р.\n",
      "и Барто Э.Г.\n",
      "является классическим трудом по этой теме, где подробно описываются основные принципы и методы обучения с подкреплением.\n",
      "Книга \"Искусственный интеллект: современный подход\" Рассела С.\n",
      "и Норвига П.\n",
      "представляет всеобъемлющее руководство по искуственному интеллекту, охватывающее различные аспекты и технологии.\n",
      "Книга \"Введение в методы машинного обучения с закреплением\" представляет собой учебное издание, написанное Александром Пановым.\n",
      "Она содержит информацию о методах машинного обучения и способах их закрепления.\n"
     ]
    }
   ],
   "source": [
    "print(model.get_overview(pdf_file).answer.replace(\". \", \".\\n\"))"
   ]
  },
  {
   "cell_type": "code",
   "execution_count": 13,
   "metadata": {},
   "outputs": [
    {
     "name": "stdout",
     "output_type": "stream",
     "text": [
      "Книга \"Введение в методы машинного обучения с подкреплением\" представляет собой учебное пособие, которое рассматривает основные понятия и алгоритмы машинного обучения с подкреплением.\n"
     ]
    }
   ],
   "source": [
    "print(model.chat(\"Скажи коротко, о чем эта книга.\").answer.replace(\". \", \".\\n\"))"
   ]
  },
  {
   "cell_type": "code",
   "execution_count": null,
   "metadata": {},
   "outputs": [],
   "source": []
  },
  {
   "cell_type": "code",
   "execution_count": null,
   "metadata": {},
   "outputs": [],
   "source": []
  },
  {
   "cell_type": "code",
   "execution_count": null,
   "metadata": {},
   "outputs": [],
   "source": []
  }
 ],
 "metadata": {
  "kernelspec": {
   "display_name": "cogers",
   "language": "python",
   "name": "python3"
  },
  "language_info": {
   "codemirror_mode": {
    "name": "ipython",
    "version": 3
   },
   "file_extension": ".py",
   "mimetype": "text/x-python",
   "name": "python",
   "nbconvert_exporter": "python",
   "pygments_lexer": "ipython3",
   "version": "3.10.14"
  }
 },
 "nbformat": 4,
 "nbformat_minor": 2
}
