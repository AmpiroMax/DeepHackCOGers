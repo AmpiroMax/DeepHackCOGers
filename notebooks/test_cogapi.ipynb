{
 "cells": [
  {
   "cell_type": "code",
   "execution_count": 1,
   "metadata": {},
   "outputs": [],
   "source": [
    "from src.data.csv_table import CsvTable\n",
    "from src.models.model import COGAPI, ModelAnswer\n",
    "from src.shemas.enums import COGFuncEnum\n",
    "from langchain_community.document_loaders import PyPDFLoader\n",
    "\n",
    "%load_ext autoreload\n",
    "%autoreload 2"
   ]
  },
  {
   "cell_type": "code",
   "execution_count": 2,
   "metadata": {},
   "outputs": [],
   "source": [
    "AUTH_TOKEN = \"NTlkY2MyZmItM2Q4ZC00ZWMzLWE2NjAtNTI3MzZhOTk2ZjQzOjVhZGJiZDQxLTc0YjAtNDQxNi04YjAzLTUxZDVmYTY4NTkwNw==\"\n",
    "PDF_PATHS = [\n",
    "    \"/Users/ampiro/programs/HACKATONS/DeepHackCOGers/data/raw/zsp.pdf\",\n",
    "    \"/Users/ampiro/programs/HACKATONS/DeepHackCOGers/data/raw/rt2.pdf\"\n",
    "]\n",
    "PROMPTS = \"/Users/ampiro/programs/HACKATONS/DeepHackCOGers/config/prompts_v1.json\""
   ]
  },
  {
   "cell_type": "code",
   "execution_count": 3,
   "metadata": {},
   "outputs": [],
   "source": [
    "loader = PyPDFLoader(PDF_PATHS[1])\n",
    "pdf_file = loader.load()"
   ]
  },
  {
   "cell_type": "code",
   "execution_count": 4,
   "metadata": {},
   "outputs": [],
   "source": [
    "model = COGAPI(AUTH_TOKEN, PROMPTS)"
   ]
  },
  {
   "cell_type": "code",
   "execution_count": 6,
   "metadata": {},
   "outputs": [
    {
     "name": "stdout",
     "output_type": "stream",
     "text": [
      "['Датасет', 'Формат плана действий', 'Языковая модель', 'Схожие работы']\n",
      "['Какие данные содержатся в датасете?', 'Каковы основные этапы разработки плана действий?', 'Каковы основные принципы работы языковой модели?', 'Какие методы были использованы для сравнения работ?']\n",
      "['Извините, но я не могу понять ваш вопрос. Можете ли вы уточнить, что именно вы имеете в виду под \"данными\" в контексте этого вопроса?', 'Я не знаю ответа на этот вопрос.', 'Я не знаю ответа на этот вопрос.', 'Для сравнения работ были использованы различные методы, включая сравнение с другими методами, которые проверяют разные аспекты работы. Все эти методы использовали одинаковые данные робота. Для сравнения с передовым методом использовался RT-1 (Brohan et al., 2022), модель с 35 миллионами параметров, основанная на трансформаторе. Для сравнения с передовыми предварительно обученными представлениями использовались VC-1 (Majumdar et al., 2023a) и R3M (Nair et al., 2022b), с политик, реализованных путем обучения RT-1 базового блока для их использования.']\n",
      "------------------Датасет------------------\n",
      "Извините, но я не могу понять ваш вопрос. Можете ли вы уточнить, что именно вы имеете в виду под \"данными\" в контексте этого вопроса?\n",
      "\n",
      "------------------Формат плана действий------------------\n",
      "Я не знаю ответа на этот вопрос.\n",
      "\n",
      "------------------Языковая модель------------------\n",
      "Я не знаю ответа на этот вопрос.\n",
      "\n",
      "------------------Схожие работы------------------\n",
      "Для сравнения работ были использованы различные методы, включая сравнение с другими методами, которые проверяют разные аспекты работы. Все эти методы использовали одинаковые данные робота. Для сравнения с передовым методом использовался RT-1 (Brohan et al., 2022), модель с 35 миллионами параметров, основанная на трансформаторе. Для сравнения с передовыми предварительно обученными представлениями использовались VC-1 (Majumdar et al., 2023a) и R3M (Nair et al., 2022b), с политик, реализованных путем обучения RT-1 базового блока для их использования.\n",
      "\n",
      "\n"
     ]
    }
   ],
   "source": [
    "prompt = \"Напиши мне структурированный обзор статьи RT-2, где упомянишь темы: датасет, формат плана действий, языковая модель, схожие работы\"\n",
    "print(model.get_structured_overview(pdf_file, prompt).answer)"
   ]
  },
  {
   "cell_type": "code",
   "execution_count": null,
   "metadata": {},
   "outputs": [],
   "source": []
  },
  {
   "cell_type": "code",
   "execution_count": null,
   "metadata": {},
   "outputs": [],
   "source": []
  },
  {
   "cell_type": "code",
   "execution_count": null,
   "metadata": {},
   "outputs": [],
   "source": []
  },
  {
   "cell_type": "code",
   "execution_count": null,
   "metadata": {},
   "outputs": [],
   "source": []
  },
  {
   "cell_type": "code",
   "execution_count": null,
   "metadata": {},
   "outputs": [],
   "source": []
  },
  {
   "cell_type": "code",
   "execution_count": null,
   "metadata": {},
   "outputs": [],
   "source": []
  }
 ],
 "metadata": {
  "kernelspec": {
   "display_name": "cogers",
   "language": "python",
   "name": "python3"
  },
  "language_info": {
   "codemirror_mode": {
    "name": "ipython",
    "version": 3
   },
   "file_extension": ".py",
   "mimetype": "text/x-python",
   "name": "python",
   "nbconvert_exporter": "python",
   "pygments_lexer": "ipython3",
   "version": "3.10.14"
  }
 },
 "nbformat": 4,
 "nbformat_minor": 2
}
