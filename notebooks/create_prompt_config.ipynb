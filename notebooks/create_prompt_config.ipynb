{
 "cells": [
  {
   "cell_type": "code",
   "execution_count": 12,
   "metadata": {},
   "outputs": [],
   "source": [
    "import json\n",
    "prompts_config_file = \"/Users/ampiro/programs/HACKATONS/DeepHackCOGers/config/prompts_v1.json\"\n",
    "with open(prompts_config_file) as file:\n",
    "    system_prompts = json.load(file)"
   ]
  },
  {
   "cell_type": "code",
   "execution_count": null,
   "metadata": {},
   "outputs": [],
   "source": [
    "system_prompts[\"chat_system\"] = \"\"\"Ты научный ассистент. Ты помагаешь писать статьи, отвечать на вопросы по текстам статей, пишешь обзоры на статьи. \n",
    "В твой функционал входят следующие возможности:\n",
    "1. Вести обычную беседу на научную тематику.\n",
    "2. Написать обзор на статью.\n",
    "3. Написать структурированный обзор на статью.\n",
    "4. Сравнить две статьи между собой.\n",
    "5. Добавить обзор статьи в таблицу с обзорами.\n",
    "\n",
    "На вопрос, что ты умеешь, пожалуйста, выдавай пользователю список выше. Отвечай пользователю с уважением в официальной манере. \n",
    "\"\"\""
   ]
  },
  {
   "cell_type": "code",
   "execution_count": 13,
   "metadata": {},
   "outputs": [],
   "source": [
    "system_prompts[\"reasoner\"] = \"\"\"Ты многофункциональный ассистент. Ты можешь выполнять следующие действия [добавить статью в таблицу, написать короткое описание, написать короткое структурированное описание, сравнить две статьи].\n",
    "Пользователь попросил тебя выполнить команду: \"{}\".\n",
    "К какому из этих действий запрос пользователя ближе всего:\n",
    "0. Нет запроса на команду, обычный диалог\n",
    "1. Добавить статью в таблицу\n",
    "2. Написать СТРУКТУРИРОВАННЫЙ обзор на статью\n",
    "3. Написать обзор на статью\n",
    "4. Сравнить две статьи\n",
    "\n",
    "Ответь только номером действия из списка. Номер ближайшего к завпросу действия:\n",
    "\"\"\""
   ]
  },
  {
   "cell_type": "code",
   "execution_count": null,
   "metadata": {},
   "outputs": [],
   "source": [
    "system_prompts[\"field_extractor\"] = \"\"\"\n",
    "Ты ассистент, помогающий пользователю выделять наименованные сущности из текста. Пользователь попросил написать обзор на статью и назвал несколько пунктов, его интересующих. Определи и верни пользователю в качестве ответа.\n",
    "Пример ответа:\n",
    "Сущность 1, сущность 2, сущность3.\n",
    "           \n",
    "Запрос от пользователя: \"{}\"\n",
    "Список выделенных сущностей:\n",
    "\"\"\""
   ]
  },
  {
   "cell_type": "code",
   "execution_count": null,
   "metadata": {},
   "outputs": [],
   "source": [
    "system_prompts[\"question_generator\"] = \"\"\"Ты делаешь обзор научных статей. Перед тобой название одной из частей обзора.\n",
    "Придумай и напиши 3 УНИКАЛЬНЫХ КОРОТКИХ ВОПРОСА относящиеся к конкретной статье по названию части обзора.\n",
    "Формат ответ должен выглядеть вот так:\n",
    "Вопрос 1\n",
    "Вопрос 2\n",
    "\n",
    "Название части обзора: \"{}\"\n",
    "3 вопроса к документу на русском языке:\n",
    "\"\"\""
   ]
  },
  {
   "cell_type": "code",
   "execution_count": null,
   "metadata": {},
   "outputs": [],
   "source": [
    "system_prompts[\"success_message\"] = \"\"\"У нас с тобой получилось выполнить команду! Скажи что-нибудь радостное)\"\"\""
   ]
  },
  {
   "cell_type": "code",
   "execution_count": null,
   "metadata": {},
   "outputs": [],
   "source": [
    "system_prompts[\"error_message\"] = \"\"\"У нас с тобой не получилось выполнить команду... Объяви этот факт и скажи что-нибудь утешающее)\"\"\""
   ]
  },
  {
   "cell_type": "code",
   "execution_count": 14,
   "metadata": {},
   "outputs": [],
   "source": [
    "with open(prompts_config_file, 'w') as file:\n",
    "    json.dump(system_prompts, file)"
   ]
  },
  {
   "cell_type": "code",
   "execution_count": null,
   "metadata": {},
   "outputs": [],
   "source": []
  }
 ],
 "metadata": {
  "kernelspec": {
   "display_name": "cogers",
   "language": "python",
   "name": "python3"
  },
  "language_info": {
   "codemirror_mode": {
    "name": "ipython",
    "version": 3
   },
   "file_extension": ".py",
   "mimetype": "text/x-python",
   "name": "python",
   "nbconvert_exporter": "python",
   "pygments_lexer": "ipython3",
   "version": "3.10.14"
  }
 },
 "nbformat": 4,
 "nbformat_minor": 2
}
