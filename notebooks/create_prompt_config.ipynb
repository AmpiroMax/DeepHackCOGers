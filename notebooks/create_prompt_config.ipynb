{
 "cells": [
  {
   "cell_type": "code",
   "execution_count": 8,
   "metadata": {},
   "outputs": [],
   "source": [
    "import json\n",
    "prompts_config_file = \"/Users/ampiro/programs/HACKATONS/DeepHackCOGers/config/prompts_v1.json\"\n",
    "with open(prompts_config_file) as file:\n",
    "    system_prompts = json.load(file)"
   ]
  },
  {
   "cell_type": "code",
   "execution_count": 9,
   "metadata": {},
   "outputs": [],
   "source": [
    "system_prompts[\"reasoner\"] = \"\"\"Ты многофункциональный ассистент. Ты можешь выполнять следующие действия [добавить статью в таблицу, написать короткое описание, написать короткое структурированное описание, сравнить две статьи].\n",
    "Пользователь попросил тебя выполнить команду: \"{}\".\n",
    "К какому из этих действий запрос пользователя ближе всего:\n",
    "1. Добавить статью в таблицу\n",
    "2. Написать СТРУКТУРИРОВАННЫЙ обзор на статью\n",
    "3. Написать обзор на статью\n",
    "4. Сравнить две статьи\n",
    "\n",
    "Ответь только номером действия из списка. Номер ближайшего к завпросу действия:\n",
    "\"\"\""
   ]
  },
  {
   "cell_type": "code",
   "execution_count": 10,
   "metadata": {},
   "outputs": [],
   "source": [
    "with open(prompts_config_file, 'w') as file:\n",
    "    json.dump(system_prompts, file)"
   ]
  },
  {
   "cell_type": "code",
   "execution_count": null,
   "metadata": {},
   "outputs": [],
   "source": []
  }
 ],
 "metadata": {
  "kernelspec": {
   "display_name": "cogers",
   "language": "python",
   "name": "python3"
  },
  "language_info": {
   "codemirror_mode": {
    "name": "ipython",
    "version": 3
   },
   "file_extension": ".py",
   "mimetype": "text/x-python",
   "name": "python",
   "nbconvert_exporter": "python",
   "pygments_lexer": "ipython3",
   "version": "3.10.14"
  }
 },
 "nbformat": 4,
 "nbformat_minor": 2
}
