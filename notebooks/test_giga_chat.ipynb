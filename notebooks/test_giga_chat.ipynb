{
 "cells": [
  {
   "cell_type": "code",
   "execution_count": 1,
   "metadata": {},
   "outputs": [],
   "source": [
    "from langchain.chat_models.gigachat import GigaChat\n",
    "from langchain.schema import HumanMessage\n",
    "from langchain_community.document_loaders import PyPDFLoader\n",
    "from langchain.text_splitter import RecursiveCharacterTextSplitter\n",
    "from chromadb.config import Settings\n",
    "from langchain.vectorstores import Chroma\n",
    "from langchain_community.embeddings.gigachat import GigaChatEmbeddings\n",
    "from langchain.chains import RetrievalQA\n",
    "from langchain.prompts.chat import (\n",
    "    AIMessagePromptTemplate,\n",
    "    ChatPromptTemplate,\n",
    "    HumanMessagePromptTemplate,\n",
    "    SystemMessagePromptTemplate,\n",
    ")\n",
    "from langchain.schema import AIMessage, HumanMessage, SystemMessage"
   ]
  },
  {
   "cell_type": "code",
   "execution_count": 2,
   "metadata": {},
   "outputs": [],
   "source": [
    "AUTH_TOKEN = \"NTlkY2MyZmItM2Q4ZC00ZWMzLWE2NjAtNTI3MzZhOTk2ZjQzOjVhZGJiZDQxLTc0YjAtNDQxNi04YjAzLTUxZDVmYTY4NTkwNw==\"\n",
    "PDF_PATH = \"/Users/ampiro/programs/HACKATONS/DeepHackCOGers/data/raw/zsp.pdf\""
   ]
  },
  {
   "cell_type": "code",
   "execution_count": 3,
   "metadata": {},
   "outputs": [],
   "source": [
    "llm = GigaChat(credentials=AUTH_TOKEN, verify_ssl_certs=False, scope='GIGACHAT_API_CORP')\n",
    "embberder = GigaChatEmbeddings(\n",
    "    credentials=AUTH_TOKEN, verify_ssl_certs=False, scope='GIGACHAT_API_CORP'\n",
    ")"
   ]
  },
  {
   "cell_type": "code",
   "execution_count": 4,
   "metadata": {},
   "outputs": [
    {
     "name": "stdout",
     "output_type": "stream",
     "text": [
      "Total documents: 317\n"
     ]
    }
   ],
   "source": [
    "loader = PyPDFLoader(PDF_PATH)\n",
    "documents = loader.load()\n",
    "text_splitter = RecursiveCharacterTextSplitter(\n",
    "    chunk_size=500,\n",
    "    chunk_overlap=200,\n",
    ")\n",
    "documents = text_splitter.split_documents(documents)\n",
    "print(f\"Total documents: {len(documents)}\")"
   ]
  },
  {
   "cell_type": "code",
   "execution_count": 5,
   "metadata": {},
   "outputs": [],
   "source": [
    "db = Chroma.from_documents(\n",
    "    documents,\n",
    "    embberder,\n",
    "    client_settings=Settings(anonymized_telemetry=False),\n",
    ")"
   ]
  },
  {
   "cell_type": "code",
   "execution_count": 6,
   "metadata": {},
   "outputs": [],
   "source": [
    "qa_chain = RetrievalQA.from_chain_type(llm, retriever=db.as_retriever())"
   ]
  },
  {
   "cell_type": "code",
   "execution_count": 7,
   "metadata": {},
   "outputs": [
    {
     "data": {
      "text/plain": [
       "AIMessage(content='How is the plan presented?', response_metadata={'token_usage': Usage(prompt_tokens=37, completion_tokens=7, total_tokens=44), 'model_name': 'GigaChat:3.1.24.3', 'finish_reason': 'stop'}, id='run-38aca72e-c9b0-4f7d-9662-525b9a8d259c-0')"
      ]
     },
     "execution_count": 7,
     "metadata": {},
     "output_type": "execute_result"
    }
   ],
   "source": [
    "template = \"Ты полезный ассистент, который умеет переводить {input_language} на {output_language}. Переведи следующее предложение.\"\n",
    "system_message_prompt = SystemMessagePromptTemplate.from_template(template)\n",
    "human_template = \"{text}\"\n",
    "human_message_prompt = HumanMessagePromptTemplate.from_template(human_template)\n",
    "\n",
    "chat_prompt = ChatPromptTemplate.from_messages(\n",
    "    [system_message_prompt, human_message_prompt]\n",
    ")\n",
    "\n",
    "# get a chat completion from the formatted messages\n",
    "llm.invoke(\n",
    "    chat_prompt.format_prompt(\n",
    "        input_language=\"русский\",\n",
    "        output_language=\"английский\",\n",
    "        text=\"Как представляется план\",\n",
    "    ).to_messages()\n",
    ")"
   ]
  },
  {
   "cell_type": "code",
   "execution_count": 8,
   "metadata": {},
   "outputs": [
    {
     "name": "stderr",
     "output_type": "stream",
     "text": [
      "/Users/ampiro/miniconda3/envs/cogers/lib/python3.10/site-packages/langchain_core/_api/deprecation.py:117: LangChainDeprecationWarning: The function `__call__` was deprecated in LangChain 0.1.0 and will be removed in 0.2.0. Use invoke instead.\n",
      "  warn_deprecated(\n"
     ]
    },
    {
     "name": "stdout",
     "output_type": "stream",
     "text": [
      "Here are the randomly chosen examples for the evaluated tasks:\n",
      "\n",
      "Example 1: Task: Use computer\n",
      "Step 1: Walk to home ofﬁce\n",
      "Step 2: Walk to chair\n",
      "Step 3: Find chair\n",
      "\n",
      "Example 2: Task: Relax on sofa\n",
      "Step 1: Walk to home ofﬁce\n",
      "Step 2: Walk to couch\n",
      "Step 3: Find couch\n",
      "Step 4: Sit on couch\n",
      "Step 5: Find pillow\n",
      "Step 6: Lie on couch\n",
      "\n",
      "Example 3: Task: Read book\n",
      "Step 1: Walk to home ofﬁce\n",
      "Step 2: Walk to couch\n",
      "Step 3: Find couch\n",
      "Step 4: Sit on couch\n",
      "Step 5: Find pillow\n",
      "Step 6: Lie on couch\n"
     ]
    }
   ],
   "source": [
    "result = qa_chain({\"query\": \"Show example across evaluated tasks\"})[\"result\"]\n",
    "print(result)"
   ]
  },
  {
   "cell_type": "code",
   "execution_count": 9,
   "metadata": {},
   "outputs": [
    {
     "data": {
      "text/plain": [
       "{'query': '', 'result': 'Не знаю'}"
      ]
     },
     "execution_count": 9,
     "metadata": {},
     "output_type": "execute_result"
    }
   ],
   "source": [
    "qa_chain({\"query\": \"\"})"
   ]
  },
  {
   "cell_type": "code",
   "execution_count": 10,
   "metadata": {},
   "outputs": [
    {
     "data": {
      "text/plain": [
       "{'query': 'Что такое SARSA?',\n",
       " 'result': 'SARSA (State-Action-Reward-State-Action) - это алгоритм обучения с подкреплением, который используется в обучении агентов для принятия решений в играх. Он основан на принципе \"обучения с подкреплением\", который предполагает, что агент обучается на основе своего опыта и вознаграждения, получаемого за свои действия. В SARSA агент сравнивает текущее состояние (state) с предыдущим состоянием (state), чтобы определить, какие действия привели к лучшим результатам. Затем он выбирает новое действие, основываясь на этом сравнении, и получает новое вознаграждение. Этот процесс повторяется до тех пор, пока агент не достигнет желаемого результата.'}"
      ]
     },
     "execution_count": 10,
     "metadata": {},
     "output_type": "execute_result"
    }
   ],
   "source": [
    "qa_chain({\"query\": \"Что такое SARSA?\"})"
   ]
  },
  {
   "cell_type": "code",
   "execution_count": 11,
   "metadata": {},
   "outputs": [
    {
     "data": {
      "text/plain": [
       "{'query': 'В чем разница между TD подходом и SARSA?',\n",
       " 'result': 'Извините, но я не могу ответить на ваш вопрос на русском языке. Можете ли вы повторить его на английском?'}"
      ]
     },
     "execution_count": 11,
     "metadata": {},
     "output_type": "execute_result"
    }
   ],
   "source": [
    "qa_chain({\"query\": \"В чем разница между TD подходом и SARSA?\"})"
   ]
  },
  {
   "cell_type": "code",
   "execution_count": 12,
   "metadata": {},
   "outputs": [
    {
     "data": {
      "text/plain": [
       "{'query': 'Что сделать девушке на ужин?',\n",
       " 'result': 'Девушке на ужин можно приготовить различные блюда, например, запеченную курицу с картофелем, овощной салат или пиццу. Также можно заказать еду на дом или пойти в ресторан.'}"
      ]
     },
     "execution_count": 12,
     "metadata": {},
     "output_type": "execute_result"
    }
   ],
   "source": [
    "qa_chain({\"query\": \"Что сделать девушке на ужин?\"})"
   ]
  },
  {
   "cell_type": "code",
   "execution_count": 13,
   "metadata": {},
   "outputs": [],
   "source": [
    "table_request = \"\"\"\n",
    "Ты ассистент помогающий писать обзоры к научным статьям. Тебя попросили заполнить таблицу со столбцами, обозначающие разные важные части статьи. Сформулируй запрос на получение всей информации из статьи по названию определенного столбца.\n",
    "Название интересующего столбца: среда/датасет\n",
    "Не используй слово столбец в тексте запроса.\n",
    "Формат ответ должен выглядеть вот так:\n",
    "\n",
    "\n",
    "Запрос: \"текст запроса\"\n",
    "\n",
    "\n",
    "\"\"\""
   ]
  },
  {
   "cell_type": "code",
   "execution_count": 14,
   "metadata": {},
   "outputs": [
    {
     "ename": "KeyError",
     "evalue": "'question'",
     "output_type": "error",
     "traceback": [
      "\u001b[0;31m---------------------------------------------------------------------------\u001b[0m",
      "\u001b[0;31mKeyError\u001b[0m                                  Traceback (most recent call last)",
      "Cell \u001b[0;32mIn[14], line 5\u001b[0m\n\u001b[1;32m      1\u001b[0m templated \u001b[38;5;241m=\u001b[39m \u001b[38;5;124;43m\"\"\"\u001b[39;49m\u001b[38;5;124;43mQUESTION: \u001b[39;49m\u001b[38;5;132;43;01m{question}\u001b[39;49;00m\n\u001b[1;32m      2\u001b[0m \u001b[38;5;124;43m=========\u001b[39;49m\n\u001b[1;32m      3\u001b[0m \u001b[38;5;132;43;01m{summaries}\u001b[39;49;00m\n\u001b[1;32m      4\u001b[0m \u001b[38;5;124;43m=========\u001b[39;49m\n\u001b[0;32m----> 5\u001b[0m \u001b[38;5;124;43mFINAL ANSWER:\u001b[39;49m\u001b[38;5;124;43m\"\"\"\u001b[39;49m\u001b[38;5;241;43m.\u001b[39;49m\u001b[43mformat\u001b[49m\u001b[43m(\u001b[49m\n\u001b[1;32m      6\u001b[0m \u001b[43m    \u001b[49m\u001b[38;5;124;43m\"\u001b[39;49m\u001b[38;5;124;43mКак можно \u001b[39;49m\u001b[38;5;124;43m\"\u001b[39;49m\u001b[43m,\u001b[49m\n\u001b[1;32m      7\u001b[0m \u001b[43m    \u001b[49m\u001b[38;5;124;43m\"\u001b[39;49m\u001b[38;5;124;43m\"\u001b[39;49m\n\u001b[1;32m      8\u001b[0m \u001b[43m)\u001b[49m\n",
      "\u001b[0;31mKeyError\u001b[0m: 'question'"
     ]
    }
   ],
   "source": [
    "templated = \"\"\"QUESTION: {question}\n",
    "=========\n",
    "{summaries}\n",
    "=========\n",
    "FINAL ANSWER:\"\"\".format(\n",
    "    \"Как можно \",\n",
    "    \"\"\n",
    ")"
   ]
  },
  {
   "cell_type": "code",
   "execution_count": 15,
   "metadata": {},
   "outputs": [
    {
     "ename": "NameError",
     "evalue": "name 'templated' is not defined",
     "output_type": "error",
     "traceback": [
      "\u001b[0;31m---------------------------------------------------------------------------\u001b[0m",
      "\u001b[0;31mNameError\u001b[0m                                 Traceback (most recent call last)",
      "Cell \u001b[0;32mIn[15], line 1\u001b[0m\n\u001b[0;32m----> 1\u001b[0m qa_chain({\u001b[38;5;124m\"\u001b[39m\u001b[38;5;124mquery\u001b[39m\u001b[38;5;124m\"\u001b[39m: \u001b[43mtemplated\u001b[49m})\n",
      "\u001b[0;31mNameError\u001b[0m: name 'templated' is not defined"
     ]
    }
   ],
   "source": [
    "qa_chain({\"query\": templated})"
   ]
  },
  {
   "cell_type": "code",
   "execution_count": 16,
   "metadata": {},
   "outputs": [
    {
     "name": "stdout",
     "output_type": "stream",
     "text": [
      "1. Какие данные были использованы для создания датасета?\n",
      "2. Какова структура датасета и как она была разработана?\n",
      "3. Какие методы и алгоритмы были применены для обработки и анализа данных в датасете?\n"
     ]
    }
   ],
   "source": [
    "template = \"\"\"Ты делаешь обзор научных статей. Перед тобой название одной из частей обзора.\n",
    "Придумай и напиши 3 УНИКАЛЬНЫХ КОРОТКИХ ВОПРОСА, которые человек может задать к данной части.\n",
    "Используй непредвзятый и научнотехнический тон. Не повторяй текст.\n",
    "Формат ответ должен выглядеть вот так:\n",
    "\"\n",
    "Вопрос\n",
    "...\n",
    "...\n",
    "Вопрос\n",
    "\n",
    "\"\n",
    "\n",
    "Название части обзора:\n",
    "{}\n",
    "\n",
    "3 вопроса к документу на русском языке:\"\"\"\n",
    "\n",
    "res = llm.invoke(template.format(\"датасет\"))\n",
    "print(res.content)"
   ]
  },
  {
   "cell_type": "code",
   "execution_count": 17,
   "metadata": {},
   "outputs": [
    {
     "data": {
      "text/plain": [
       "AIMessage(content='3', response_metadata={'token_usage': Usage(prompt_tokens=148, completion_tokens=3, total_tokens=151), 'model_name': 'GigaChat:3.1.24.3', 'finish_reason': 'stop'}, id='run-17eea641-0780-433a-9013-53596fb23196-0')"
      ]
     },
     "execution_count": 17,
     "metadata": {},
     "output_type": "execute_result"
    }
   ],
   "source": [
    "command = \"расскажи о чем статья абоба, обязательно скажи про dataset, llm, plan structure\"\n",
    "\n",
    "llm.invoke(\"\"\"Ты многофункциональный ассистент. Ты можешь выполнять следующие действия [добавить статью в таблицу, написать короткое описание, написать короткое структурированное описание, сравнить две статьи].\n",
    "Пользователь попросил тебя выполнить команду: \"\".\n",
    "К какому из этих действий запрос пользователя ближе всего:\n",
    "1. Добавить статью в таблицу\n",
    "2. Написать СТРУКТУРИРОВАННЫЙ обзор на статью\n",
    "3. Написать обзор на статью\n",
    "4. Сравнить две статьи\n",
    "\n",
    "Ответь только номером действия из списка. Номер ближайшего к завпросу действия:\n",
    "\"\"\")"
   ]
  },
  {
   "cell_type": "code",
   "execution_count": 23,
   "metadata": {},
   "outputs": [
    {
     "name": "stdout",
     "output_type": "stream",
     "text": [
      "1\n"
     ]
    }
   ],
   "source": [
    "import re\n",
    "s = \"1. Написать обзор на статью\"\n",
    "print()\n"
   ]
  },
  {
   "cell_type": "code",
   "execution_count": 19,
   "metadata": {},
   "outputs": [
    {
     "data": {
      "text/plain": [
       "{}"
      ]
     },
     "execution_count": 19,
     "metadata": {},
     "output_type": "execute_result"
    }
   ],
   "source": []
  },
  {
   "cell_type": "code",
   "execution_count": null,
   "metadata": {},
   "outputs": [],
   "source": []
  }
 ],
 "metadata": {
  "kernelspec": {
   "display_name": "cogers",
   "language": "python",
   "name": "python3"
  },
  "language_info": {
   "codemirror_mode": {
    "name": "ipython",
    "version": 3
   },
   "file_extension": ".py",
   "mimetype": "text/x-python",
   "name": "python",
   "nbconvert_exporter": "python",
   "pygments_lexer": "ipython3",
   "version": "3.10.14"
  }
 },
 "nbformat": 4,
 "nbformat_minor": 2
}
