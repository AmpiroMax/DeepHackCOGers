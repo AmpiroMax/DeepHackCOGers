{
 "cells": [
  {
   "cell_type": "code",
   "execution_count": 1,
   "metadata": {},
   "outputs": [],
   "source": [
    "from langchain.chat_models.gigachat import GigaChat\n",
    "from langchain.chains.summarize import load_summarize_chain\n",
    "from langchain.prompts import load_prompt\n",
    "from langchain.schema import HumanMessage\n",
    "from langchain_community.document_loaders import PyPDFLoader\n",
    "from langchain.text_splitter import RecursiveCharacterTextSplitter\n",
    "from chromadb.config import Settings\n",
    "from langchain.vectorstores import Chroma\n",
    "from langchain_community.embeddings.gigachat import GigaChatEmbeddings\n",
    "from langchain.chains import RetrievalQA\n",
    "from langchain.prompts.chat import (\n",
    "    AIMessagePromptTemplate,\n",
    "    ChatPromptTemplate,\n",
    "    HumanMessagePromptTemplate,\n",
    "    SystemMessagePromptTemplate,\n",
    ")\n",
    "from langchain.schema import AIMessage, HumanMessage, SystemMessage"
   ]
  },
  {
   "cell_type": "code",
   "execution_count": 28,
   "metadata": {},
   "outputs": [],
   "source": [
    "AUTH_TOKEN = \"NTlkY2MyZmItM2Q4ZC00ZWMzLWE2NjAtNTI3MzZhOTk2ZjQzOjVhZGJiZDQxLTc0YjAtNDQxNi04YjAzLTUxZDVmYTY4NTkwNw==\"\n",
    "PDF_PATH = \"/Users/ampiro/programs/HACKATONS/DeepHackCOGers/data/raw/PanovRL.pdf\""
   ]
  },
  {
   "cell_type": "code",
   "execution_count": 3,
   "metadata": {},
   "outputs": [],
   "source": [
    "llm = GigaChat(credentials=AUTH_TOKEN, verify_ssl_certs=False, scope='GIGACHAT_API_CORP')\n",
    "embberder = GigaChatEmbeddings(\n",
    "    credentials=AUTH_TOKEN, verify_ssl_certs=False, scope='GIGACHAT_API_CORP'\n",
    ")"
   ]
  },
  {
   "cell_type": "code",
   "execution_count": 29,
   "metadata": {},
   "outputs": [
    {
     "name": "stdout",
     "output_type": "stream",
     "text": [
      "Total documents: 229\n"
     ]
    }
   ],
   "source": [
    "loader = PyPDFLoader(PDF_PATH)\n",
    "documents = loader.load()\n",
    "text_splitter = RecursiveCharacterTextSplitter(\n",
    "    chunk_size=500,\n",
    "    chunk_overlap=200,\n",
    ")\n",
    "documents = text_splitter.split_documents(documents)\n",
    "print(f\"Total documents: {len(documents)}\")"
   ]
  },
  {
   "cell_type": "code",
   "execution_count": 30,
   "metadata": {},
   "outputs": [],
   "source": [
    "db = Chroma.from_documents(\n",
    "    documents,\n",
    "    embberder,\n",
    "    client_settings=Settings(anonymized_telemetry=False),\n",
    ")"
   ]
  },
  {
   "cell_type": "code",
   "execution_count": 31,
   "metadata": {},
   "outputs": [],
   "source": [
    "qa_chain = RetrievalQA.from_chain_type(llm, retriever=db.as_retriever())"
   ]
  },
  {
   "cell_type": "code",
   "execution_count": 7,
   "metadata": {},
   "outputs": [
    {
     "data": {
      "text/plain": [
       "AIMessage(content='How is the plan presented?', response_metadata={'token_usage': Usage(prompt_tokens=37, completion_tokens=7, total_tokens=44), 'model_name': 'GigaChat:3.1.24.3', 'finish_reason': 'stop'}, id='run-38aca72e-c9b0-4f7d-9662-525b9a8d259c-0')"
      ]
     },
     "execution_count": 7,
     "metadata": {},
     "output_type": "execute_result"
    }
   ],
   "source": [
    "template = \"Ты полезный ассистент, который умеет переводить {input_language} на {output_language}. Переведи следующее предложение.\"\n",
    "system_message_prompt = SystemMessagePromptTemplate.from_template(template)\n",
    "human_template = \"{text}\"\n",
    "human_message_prompt = HumanMessagePromptTemplate.from_template(human_template)\n",
    "\n",
    "chat_prompt = ChatPromptTemplate.from_messages(\n",
    "    [system_message_prompt, human_message_prompt]\n",
    ")\n",
    "\n",
    "# get a chat completion from the formatted messages\n",
    "llm.invoke(\n",
    "    chat_prompt.format_prompt(\n",
    "        input_language=\"русский\",\n",
    "        output_language=\"английский\",\n",
    "        text=\"Как представляется план\",\n",
    "    ).to_messages()\n",
    ")"
   ]
  },
  {
   "cell_type": "code",
   "execution_count": 8,
   "metadata": {},
   "outputs": [
    {
     "name": "stderr",
     "output_type": "stream",
     "text": [
      "/Users/ampiro/miniconda3/envs/cogers/lib/python3.10/site-packages/langchain_core/_api/deprecation.py:117: LangChainDeprecationWarning: The function `__call__` was deprecated in LangChain 0.1.0 and will be removed in 0.2.0. Use invoke instead.\n",
      "  warn_deprecated(\n"
     ]
    },
    {
     "name": "stdout",
     "output_type": "stream",
     "text": [
      "Here are the randomly chosen examples for the evaluated tasks:\n",
      "\n",
      "Example 1: Task: Use computer\n",
      "Step 1: Walk to home ofﬁce\n",
      "Step 2: Walk to chair\n",
      "Step 3: Find chair\n",
      "\n",
      "Example 2: Task: Relax on sofa\n",
      "Step 1: Walk to home ofﬁce\n",
      "Step 2: Walk to couch\n",
      "Step 3: Find couch\n",
      "Step 4: Sit on couch\n",
      "Step 5: Find pillow\n",
      "Step 6: Lie on couch\n",
      "\n",
      "Example 3: Task: Read book\n",
      "Step 1: Walk to home ofﬁce\n",
      "Step 2: Walk to couch\n",
      "Step 3: Find couch\n",
      "Step 4: Sit on couch\n",
      "Step 5: Find pillow\n",
      "Step 6: Lie on couch\n"
     ]
    }
   ],
   "source": [
    "result = qa_chain({\"query\": \"Show example across evaluated tasks\"})[\"result\"]\n",
    "print(result)"
   ]
  },
  {
   "cell_type": "code",
   "execution_count": 9,
   "metadata": {},
   "outputs": [
    {
     "data": {
      "text/plain": [
       "{'query': '', 'result': 'Не знаю'}"
      ]
     },
     "execution_count": 9,
     "metadata": {},
     "output_type": "execute_result"
    }
   ],
   "source": [
    "qa_chain({\"query\": \"\"})"
   ]
  },
  {
   "cell_type": "code",
   "execution_count": 34,
   "metadata": {},
   "outputs": [
    {
     "data": {
      "text/plain": [
       "{'query': 'Какова основная идея алгоритма SARSA?',\n",
       " 'result': 'Основная идея алгоритма SARSA заключается в использовании таблицы Q-значений для обучения агентов в задачах с подкреплением. Алгоритм использует переменные состояния, действия, текущее состояние (𝑠), предыдущее действие (𝑎), следующее состояние (𝑟) и следующее действие (𝑎′). Он обновляет таблицу Q-значений, используя функцию исследования среды 𝑓(𝑣, 𝑛) и переменную 𝛼.'}"
      ]
     },
     "execution_count": 34,
     "metadata": {},
     "output_type": "execute_result"
    }
   ],
   "source": [
    "qa_chain.invoke({\"query\": \"Какова основная идея алгоритма SARSA?\"})"
   ]
  },
  {
   "cell_type": "code",
   "execution_count": 11,
   "metadata": {},
   "outputs": [
    {
     "data": {
      "text/plain": [
       "{'query': 'В чем разница между TD подходом и SARSA?',\n",
       " 'result': 'Извините, но я не могу ответить на ваш вопрос на русском языке. Можете ли вы повторить его на английском?'}"
      ]
     },
     "execution_count": 11,
     "metadata": {},
     "output_type": "execute_result"
    }
   ],
   "source": [
    "qa_chain({\"query\": \"В чем разница между TD подходом и SARSA?\"})"
   ]
  },
  {
   "cell_type": "code",
   "execution_count": 12,
   "metadata": {},
   "outputs": [
    {
     "data": {
      "text/plain": [
       "{'query': 'Что сделать девушке на ужин?',\n",
       " 'result': 'Девушке на ужин можно приготовить различные блюда, например, запеченную курицу с картофелем, овощной салат или пиццу. Также можно заказать еду на дом или пойти в ресторан.'}"
      ]
     },
     "execution_count": 12,
     "metadata": {},
     "output_type": "execute_result"
    }
   ],
   "source": [
    "qa_chain({\"query\": \"Что сделать девушке на ужин?\"})"
   ]
  },
  {
   "cell_type": "code",
   "execution_count": 13,
   "metadata": {},
   "outputs": [],
   "source": [
    "table_request = \"\"\"\n",
    "Ты ассистент помогающий писать обзоры к научным статьям. Тебя попросили заполнить таблицу со столбцами, обозначающие разные важные части статьи. Сформулируй запрос на получение всей информации из статьи по названию определенного столбца.\n",
    "Название интересующего столбца: среда/датасет\n",
    "Не используй слово столбец в тексте запроса.\n",
    "Формат ответ должен выглядеть вот так:\n",
    "\n",
    "\n",
    "Запрос: \"текст запроса\"\n",
    "\n",
    "\n",
    "\"\"\""
   ]
  },
  {
   "cell_type": "code",
   "execution_count": 14,
   "metadata": {},
   "outputs": [
    {
     "ename": "KeyError",
     "evalue": "'question'",
     "output_type": "error",
     "traceback": [
      "\u001b[0;31m---------------------------------------------------------------------------\u001b[0m",
      "\u001b[0;31mKeyError\u001b[0m                                  Traceback (most recent call last)",
      "Cell \u001b[0;32mIn[14], line 5\u001b[0m\n\u001b[1;32m      1\u001b[0m templated \u001b[38;5;241m=\u001b[39m \u001b[38;5;124;43m\"\"\"\u001b[39;49m\u001b[38;5;124;43mQUESTION: \u001b[39;49m\u001b[38;5;132;43;01m{question}\u001b[39;49;00m\n\u001b[1;32m      2\u001b[0m \u001b[38;5;124;43m=========\u001b[39;49m\n\u001b[1;32m      3\u001b[0m \u001b[38;5;132;43;01m{summaries}\u001b[39;49;00m\n\u001b[1;32m      4\u001b[0m \u001b[38;5;124;43m=========\u001b[39;49m\n\u001b[0;32m----> 5\u001b[0m \u001b[38;5;124;43mFINAL ANSWER:\u001b[39;49m\u001b[38;5;124;43m\"\"\"\u001b[39;49m\u001b[38;5;241;43m.\u001b[39;49m\u001b[43mformat\u001b[49m\u001b[43m(\u001b[49m\n\u001b[1;32m      6\u001b[0m \u001b[43m    \u001b[49m\u001b[38;5;124;43m\"\u001b[39;49m\u001b[38;5;124;43mКак можно \u001b[39;49m\u001b[38;5;124;43m\"\u001b[39;49m\u001b[43m,\u001b[49m\n\u001b[1;32m      7\u001b[0m \u001b[43m    \u001b[49m\u001b[38;5;124;43m\"\u001b[39;49m\u001b[38;5;124;43m\"\u001b[39;49m\n\u001b[1;32m      8\u001b[0m \u001b[43m)\u001b[49m\n",
      "\u001b[0;31mKeyError\u001b[0m: 'question'"
     ]
    }
   ],
   "source": [
    "templated = \"\"\"QUESTION: {question}\n",
    "=========\n",
    "{summaries}\n",
    "=========\n",
    "FINAL ANSWER:\"\"\".format(\n",
    "    \"Как можно \",\n",
    "    \"\"\n",
    ")"
   ]
  },
  {
   "cell_type": "code",
   "execution_count": 15,
   "metadata": {},
   "outputs": [
    {
     "ename": "NameError",
     "evalue": "name 'templated' is not defined",
     "output_type": "error",
     "traceback": [
      "\u001b[0;31m---------------------------------------------------------------------------\u001b[0m",
      "\u001b[0;31mNameError\u001b[0m                                 Traceback (most recent call last)",
      "Cell \u001b[0;32mIn[15], line 1\u001b[0m\n\u001b[0;32m----> 1\u001b[0m qa_chain({\u001b[38;5;124m\"\u001b[39m\u001b[38;5;124mquery\u001b[39m\u001b[38;5;124m\"\u001b[39m: \u001b[43mtemplated\u001b[49m})\n",
      "\u001b[0;31mNameError\u001b[0m: name 'templated' is not defined"
     ]
    }
   ],
   "source": [
    "qa_chain({\"query\": templated})"
   ]
  },
  {
   "cell_type": "code",
   "execution_count": 34,
   "metadata": {},
   "outputs": [
    {
     "name": "stdout",
     "output_type": "stream",
     "text": [
      "1. Какие параметры обучения используются в данной статье?\n",
      "2. Как эти параметры влияют на эффективность обучения?\n",
      "3. Какие методы оптимизации параметров обучения рассматриваются в статье?\n"
     ]
    }
   ],
   "source": [
    "template = \"\"\"Ты делаешь обзор научных статей. Перед тобой название одной из частей обзора.\n",
    "Придумай и напиши 3 УНИКАЛЬНЫХ КОРОТКИХ ВОПРОСА относящиеся к конкретной статье по названию части обзора.\n",
    "Формат ответ должен выглядеть вот так:\n",
    "Вопрос 1\n",
    "Вопрос 2\n",
    "\n",
    "Название части обзора: \"{}\"\n",
    "3 вопроса к документу на русском языке:\n",
    "\"\"\"\n",
    "\n",
    "res = llm.invoke(template.format(\"параметры обучения\"))\n",
    "print(res.content)"
   ]
  },
  {
   "cell_type": "code",
   "execution_count": 17,
   "metadata": {},
   "outputs": [
    {
     "data": {
      "text/plain": [
       "AIMessage(content='3', response_metadata={'token_usage': Usage(prompt_tokens=148, completion_tokens=3, total_tokens=151), 'model_name': 'GigaChat:3.1.24.3', 'finish_reason': 'stop'}, id='run-17eea641-0780-433a-9013-53596fb23196-0')"
      ]
     },
     "execution_count": 17,
     "metadata": {},
     "output_type": "execute_result"
    }
   ],
   "source": [
    "command = \"расскажи о чем статья абоба, обязательно скажи про dataset, llm, plan structure\"\n",
    "\n",
    "llm.invoke(\"\"\"Ты многофункциональный ассистент. Ты можешь выполнять следующие действия [добавить статью в таблицу, написать короткое описание, написать короткое структурированное описание, сравнить две статьи].\n",
    "Пользователь попросил тебя выполнить команду: \"\".\n",
    "К какому из этих действий запрос пользователя ближе всего:\n",
    "1. Добавить статью в таблицу\n",
    "2. Написать СТРУКТУРИРОВАННЫЙ обзор на статью\n",
    "3. Написать обзор на статью\n",
    "4. Сравнить две статьи\n",
    "\n",
    "Ответь только номером действия из списка. Номер ближайшего к завпросу действия:\n",
    "\"\"\")"
   ]
  },
  {
   "cell_type": "code",
   "execution_count": 23,
   "metadata": {},
   "outputs": [
    {
     "name": "stdout",
     "output_type": "stream",
     "text": [
      "1\n"
     ]
    }
   ],
   "source": [
    "import re\n",
    "s = \"1. Написать обзор на статью\"\n",
    "print()\n"
   ]
  },
  {
   "cell_type": "code",
   "execution_count": 19,
   "metadata": {},
   "outputs": [
    {
     "data": {
      "text/plain": [
       "{}"
      ]
     },
     "execution_count": 19,
     "metadata": {},
     "output_type": "execute_result"
    }
   ],
   "source": []
  },
  {
   "cell_type": "code",
   "execution_count": 38,
   "metadata": {},
   "outputs": [],
   "source": [
    "req = [\n",
    "    \"Напиши мне обзор на статью Attention is all you need, выделяя эти факторы: датасет, языковая модель, пример плана действий, название статьи\",\n",
    "    \"расскажи какие датасеты, какая llm, какие параметры обучения были использованны в работе Абоба\",\n",
    "    \"хочу знать какой датасет был использованн в статье 'Сибирские котята'\"\n",
    "]"
   ]
  },
  {
   "cell_type": "code",
   "execution_count": 42,
   "metadata": {},
   "outputs": [
    {
     "name": "stdout",
     "output_type": "stream",
     "text": [
      "Сущность 1: датасет\n",
      "Сущность 2: языковая модель\n",
      "Сущность 3: пример плана действий\n",
      "Сущность 4: название статьи\n"
     ]
    }
   ],
   "source": [
    "print(llm.invoke(\"\"\"\n",
    "Ты ассистент, помогающий пользователю выделять наименованные сущности из текста. Пользователь попросил написать обзор на статью и назвал несколько пунктов, его интересующих. Определи и верни пользователю в качестве ответа.\n",
    "Пример ответа:\n",
    "Сущность 1, сущность 2, сущность3.\n",
    "           \n",
    "Запрос от пользователя: \"{}\"\n",
    "Список выделенных сущностей:\n",
    "\"\"\".format(req[0])).content)"
   ]
  },
  {
   "cell_type": "code",
   "execution_count": 35,
   "metadata": {},
   "outputs": [
    {
     "data": {
      "text/plain": [
       "AIMessage(content='Ура! Мы это сделали! Хочу сказать, что я очень рада, что мы смогли выполнить эту команду вместе. Это было весело и увлекательно. Спасибо за компанию!', response_metadata={'token_usage': Usage(prompt_tokens=27, completion_tokens=37, total_tokens=64), 'model_name': 'GigaChat:3.1.24.3', 'finish_reason': 'stop'}, id='run-e52d576b-42b6-4cd6-bdfa-6ec8b8e670e6-0')"
      ]
     },
     "execution_count": 35,
     "metadata": {},
     "output_type": "execute_result"
    }
   ],
   "source": [
    "llm.invoke(\"У нас с тобой получилось выполнить команду! Скажи что-нибудь радостное)\")"
   ]
  },
  {
   "cell_type": "code",
   "execution_count": 37,
   "metadata": {},
   "outputs": [
    {
     "data": {
      "text/plain": [
       "AIMessage(content='К сожалению, у нас не получилось выполнить команду. Но не переживайте, мы будем стараться изо всех сил и учиться вместе. Всегда есть возможность попробовать снова и достичь успеха.', response_metadata={'token_usage': Usage(prompt_tokens=34, completion_tokens=41, total_tokens=75), 'model_name': 'GigaChat:3.1.24.3', 'finish_reason': 'stop'}, id='run-860afc9b-c486-4c1c-92f3-72e687ed6c67-0')"
      ]
     },
     "execution_count": 37,
     "metadata": {},
     "output_type": "execute_result"
    }
   ],
   "source": [
    "llm.invoke(\"У нас с тобой не получилось выполнить команду... Объяви этот факт и скажи что-нибудь утешающее)\")"
   ]
  },
  {
   "cell_type": "code",
   "execution_count": 16,
   "metadata": {},
   "outputs": [],
   "source": [
    "book_map_prompt = load_prompt(\"lc://prompts/summarize/map_reduce/summarize_book_map.yaml\")\n",
    "book_combine_prompt = load_prompt(\"lc://prompts/summarize/map_reduce/summarize_book_combine.yaml\")\n",
    "\n",
    "chain = load_summarize_chain(llm, chain_type=\"map_reduce\", \n",
    "                             map_prompt=book_map_prompt,\n",
    "                             combine_prompt=book_combine_prompt,\n",
    "                             verbose=False)\n"
   ]
  },
  {
   "cell_type": "code",
   "execution_count": 20,
   "metadata": {},
   "outputs": [
    {
     "name": "stdout",
     "output_type": "stream",
     "text": [
      "33\n"
     ]
    }
   ],
   "source": [
    "text_splitter = RecursiveCharacterTextSplitter(\n",
    "    chunk_size=7000,\n",
    "    chunk_overlap=500,\n",
    ")\n",
    "\n",
    "loader = PyPDFLoader(PDF_PATH)\n",
    "documents = loader.load()\n",
    "documents = text_splitter.split_documents(documents)\n",
    "print(len(documents))"
   ]
  },
  {
   "cell_type": "code",
   "execution_count": 21,
   "metadata": {},
   "outputs": [
    {
     "name": "stdout",
     "output_type": "stream",
     "text": [
      "Книга исследует возможность использования знаний, полученных от больших языковых моделей, для выполнения задач в интерактивных средах.\n",
      "Авторы предлагают метод, который позволяет преобразовывать высокоуровневые задачи на естественном языке в планы действий, состоящие из нескольких шагов.\n",
      "Они также показывают, что при правильном подходе LLM могут эффективно декомпозировать задачи без дополнительного обучения.\n",
      "Однако планы, сгенерированные LLM, часто не соответствуют допустимым действиям.\n",
      "Авторы предлагают процедуру, которая использует существующие демонстрации и переводит планы в допустимые действия.\n",
      "Результаты оценки в виртуальной среде VirtualHome показывают, что этот метод значительно улучшает выполнение задач по сравнению с базовым LLM.\n"
     ]
    }
   ],
   "source": [
    "res = chain.invoke({\"input_documents\": documents})\n",
    "print(res[\"output_text\"].replace(\". \", \".\\n\"))"
   ]
  },
  {
   "cell_type": "code",
   "execution_count": 24,
   "metadata": {},
   "outputs": [
    {
     "name": "stdout",
     "output_type": "stream",
     "text": [
      "Книга исследует возможность использования знаний, полученных от больших языковых моделей, для выполнения задач в интерактивных средах.\n",
      "Авторы предлагают метод, который позволяет преобразовывать высокоуровневые задачи на естественном языке в планы действий, состоящие из нескольких шагов.\n",
      "Они также показывают, что при правильном подходе LLM могут эффективно декомпозировать задачи без дополнительного обучения.\n",
      "Однако планы, сгенерированные LLM, часто не соответствуют допустимым действиям.\n",
      "Авторы предлагают процедуру, которая использует существующие демонстрации и переводит планы в допустимые действия.\n",
      "Результаты оценки в виртуальной среде VirtualHome показывают, что этот метод значительно улучшает выполнение задач по сравнению с базовым LLM.\n"
     ]
    }
   ],
   "source": [
    "print(res[\"output_text\"].replace(\". \", \".\\n\"))"
   ]
  },
  {
   "cell_type": "code",
   "execution_count": 26,
   "metadata": {},
   "outputs": [],
   "source": [
    "res = chain.invoke({\"input_documents\": documents, \"map_size\": \"сделай обзор на статью Абоба в 5 предложений\"})\n"
   ]
  },
  {
   "cell_type": "code",
   "execution_count": 27,
   "metadata": {},
   "outputs": [
    {
     "name": "stdout",
     "output_type": "stream",
     "text": [
      "Книга рассматривает использование языковых моделей для выполнения задач в интерактивных средах, создания и выполнения действий в виртуальной среде, оценки правильности программ с помощью метрик, анализа длины программ и сравнения различных моделей машинного обучения.\n",
      "В каждой части подробно описываются шаги, необходимые для успешного выполнения задачи.\n"
     ]
    }
   ],
   "source": [
    "print(res[\"output_text\"].replace(\". \", \".\\n\"))"
   ]
  },
  {
   "cell_type": "code",
   "execution_count": 35,
   "metadata": {},
   "outputs": [
    {
     "ename": "NameError",
     "evalue": "name 'document_chain' is not defined",
     "output_type": "error",
     "traceback": [
      "\u001b[0;31m---------------------------------------------------------------------------\u001b[0m",
      "\u001b[0;31mNameError\u001b[0m                                 Traceback (most recent call last)",
      "Cell \u001b[0;32mIn[35], line 7\u001b[0m\n\u001b[1;32m      3\u001b[0m demo_ephemeral_chat_history \u001b[38;5;241m=\u001b[39m ChatMessageHistory()\n\u001b[1;32m      5\u001b[0m demo_ephemeral_chat_history\u001b[38;5;241m.\u001b[39madd_user_message(\u001b[38;5;124m\"\u001b[39m\u001b[38;5;124mhow can langsmith help with testing?\u001b[39m\u001b[38;5;124m\"\u001b[39m)\n\u001b[0;32m----> 7\u001b[0m \u001b[43mdocument_chain\u001b[49m\u001b[38;5;241m.\u001b[39minvoke(\n\u001b[1;32m      8\u001b[0m     {\n\u001b[1;32m      9\u001b[0m         \u001b[38;5;124m\"\u001b[39m\u001b[38;5;124mmessages\u001b[39m\u001b[38;5;124m\"\u001b[39m: demo_ephemeral_chat_history\u001b[38;5;241m.\u001b[39mmessages,\n\u001b[1;32m     10\u001b[0m         \u001b[38;5;124m\"\u001b[39m\u001b[38;5;124mcontext\u001b[39m\u001b[38;5;124m\"\u001b[39m: docs,\n\u001b[1;32m     11\u001b[0m     }\n\u001b[1;32m     12\u001b[0m )\n",
      "\u001b[0;31mNameError\u001b[0m: name 'document_chain' is not defined"
     ]
    }
   ],
   "source": [
    "from langchain.chains.combine_documents import create_stuff_documents_chain\n",
    "\n",
    "\n",
    "question_answering_prompt = ChatPromptTemplate.from_messages(\n",
    "    [\n",
    "        (\n",
    "            \"system\",\n",
    "            \"Answer the user's questions based on the below context:\\n\\n{context}\",\n",
    "        ),\n",
    "        MessagesPlaceholder(variable_name=\"messages\"),\n",
    "    ]\n",
    ")\n",
    "\n",
    "document_chain = create_stuff_documents_chain(chat, question_answering_prompt)\n",
    "\n",
    "\n",
    "from langchain.memory import ChatMessageHistory\n",
    "\n",
    "demo_ephemeral_chat_history = ChatMessageHistory()\n",
    "\n",
    "demo_ephemeral_chat_history.add_user_message(\"how can langsmith help with testing?\")\n",
    "\n",
    "document_chain.invoke(\n",
    "    {\n",
    "        \"messages\": demo_ephemeral_chat_history.messages,\n",
    "        \"context\": docs,\n",
    "    }\n",
    ")"
   ]
  },
  {
   "cell_type": "code",
   "execution_count": null,
   "metadata": {},
   "outputs": [],
   "source": []
  },
  {
   "cell_type": "code",
   "execution_count": null,
   "metadata": {},
   "outputs": [],
   "source": []
  }
 ],
 "metadata": {
  "kernelspec": {
   "display_name": "cogers",
   "language": "python",
   "name": "python3"
  },
  "language_info": {
   "codemirror_mode": {
    "name": "ipython",
    "version": 3
   },
   "file_extension": ".py",
   "mimetype": "text/x-python",
   "name": "python",
   "nbconvert_exporter": "python",
   "pygments_lexer": "ipython3",
   "version": "3.10.14"
  }
 },
 "nbformat": 4,
 "nbformat_minor": 2
}
