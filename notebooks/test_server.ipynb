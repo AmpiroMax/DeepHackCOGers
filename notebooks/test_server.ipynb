{
 "cells": [
  {
   "cell_type": "code",
   "execution_count": 1,
   "metadata": {},
   "outputs": [],
   "source": [
    "%load_ext autoreload\n",
    "%autoreload 2"
   ]
  },
  {
   "cell_type": "code",
   "execution_count": 2,
   "metadata": {},
   "outputs": [],
   "source": [
    "from src.data.csv_table import CsvTable\n",
    "from src.models.model import COGAgent, AgentAnswer\n",
    "from src.service.server import COGServer\n",
    "from src.shemas.enums import COGFuncEnum\n",
    "from langchain_community.document_loaders import PyPDFLoader\n",
    "from src.shemas.messages import Message"
   ]
  },
  {
   "cell_type": "code",
   "execution_count": 3,
   "metadata": {},
   "outputs": [],
   "source": [
    "AUTH_TOKEN = \"NTlkY2MyZmItM2Q4ZC00ZWMzLWE2NjAtNTI3MzZhOTk2ZjQzOjVhZGJiZDQxLTc0YjAtNDQxNi04YjAzLTUxZDVmYTY4NTkwNw==\"\n",
    "PDF_PATHS = [\n",
    "    \"/Users/ampiro/programs/HACKATONS/DeepHackCOGers/data/raw/zsp.pdf\",\n",
    "    \"/Users/ampiro/programs/HACKATONS/DeepHackCOGers/data/raw/rt2.pdf\",\n",
    "    \"/Users/ampiro/programs/HACKATONS/DeepHackCOGers/data/raw/PanovRL.pdf\",\n",
    "    \"/Users/ampiro/programs/HACKATONS/DeepHackCOGers/data/raw/llmp.pdf\"\n",
    "]\n",
    "TABLE_PATH = \"/Users/ampiro/programs/HACKATONS/DeepHackCOGers/data/raw/table.csv\"\n",
    "PROMPTS = \"/Users/ampiro/programs/HACKATONS/DeepHackCOGers/config/prompts_v1.json\""
   ]
  },
  {
   "cell_type": "code",
   "execution_count": 4,
   "metadata": {},
   "outputs": [],
   "source": [
    "loader = PyPDFLoader(PDF_PATHS[2])\n",
    "documents = loader.load()\n",
    "\n",
    "requests = [\n",
    "    Message(prompt=\"Привет! Кто ты и что умеешь?\"),\n",
    "    Message(prompt=\"Хорошо! Меня зовут Максим и я хочу писать обзоры на статьи.\"),\n",
    "    Message(prompt=\"Как меня зовут и чем хочу заниматься?\"),\n",
    "    Message(prompt=\"Найди информацию из статьи по каждому пункту: sarsa, q-learning, TD.\", pdf_files=documents),\n",
    "    Message(prompt=\"Уменьши свой ответ в два раза.\"),\n",
    "    Message(prompt=\"Молодец!\"),\n",
    "    Message(prompt=\"Напиши обзор на книгу.\", pdf_files=documents),\n",
    "    Message(prompt=\"ответь короче\")\n",
    "]"
   ]
  },
  {
   "cell_type": "code",
   "execution_count": 5,
   "metadata": {},
   "outputs": [],
   "source": [
    "srv = COGServer(AUTH_TOKEN, PROMPTS)\n",
    "table = CsvTable(TABLE_PATH)\n",
    "srv.set_table(table)"
   ]
  },
  {
   "cell_type": "code",
   "execution_count": 7,
   "metadata": {},
   "outputs": [
    {
     "name": "stdout",
     "output_type": "stream",
     "text": [
      "answer='Здравствуйте! Я — ваш персональный научный ассистент. Могу вести с вами научные беседы, писать статьи и обзоры на них, сравнивать статьи между собой и добавлять обзоры в таблицы.' info=None\n",
      "answer='Здравствуйте, Максим! Очень рада знакомству. Какие статьи вы хотели бы обобщить?' info=None\n",
      "answer='Вы уже знаете ответ на этот вопрос. Вас зовут Максим, и вы хотите писать обзоры на статьи.' info=None\n",
      "answer='SARSA:\\nОсновная идея алгоритма SARSA заключается в использовании таблицы Q-значений для обучения агентов в задачах с подкреплением. Алгоритм использует переменные состояния, действия, текущее состояние (𝑠), предыдущее действие (𝑎), следующее состояние (𝑟) и следующее действие (𝑎′). Он обновляет таблицу Q-значений, используя функцию исследования среды 𝑓(𝑣, 𝑛) и функцию целевой полезности 𝑟+𝛾𝑄[𝑠′, 𝑎′].\\n\\nQ-learning:\\nОсновные принципы Q-обучения включают оценку полезности состояний и определение оптимальной стратегии. Для этого необходимо оценивать полезность каждого действия отдельно. В связи с этим вводят так называемую Q-функцию, которая определяется аналогично значениям V.\\n\\nTD:\\nTD (Temporal Difference) - это метод обучения, который используется в обучении с подкреплением. Он основан на принципе бутстрепа и позволяет агенту обновлять оценки полезности состояний, учитывая полезности как текущего, так и предыдущих состояний. Это делает обучение более эффективным и позволяет агенту обучаться без накопления полного опыта.\\n\\n' info=None\n",
      "answer='Алгоритм SARSA использует таблицу Q-значений для обучения агентов в задачах с подкреплением. Он обновляет таблицу, используя функцию исследования среды и функцию целевой полезности. Q-learning оценивает полезность каждого действия отдельно и определяет оптимальную стратегию. TD (Temporal Difference) - метод обучения, основанный на принципе бутстрепа и позволяющий агенту обновлять оценки полезности состояний, учитывая полезности как текущего, так и предыдущих состояний.' info=None\n",
      "answer='Спасибо!' info=None\n",
      "answer='Книга \"Введение в методы машинного обучения с подкреплением\" представляет обзор методов машинного обучения с акцентом на их практическое применение. Рассматриваются основные понятия и алгоритмы машинного обучения с подкреплением, включая методы динамического программирования, методы временных разностей, градиентные и иерархические методы. Особое внимание уделяется рассмотрению алгоритмических аспектов указанных подходов, приводятся иллюстративные примеры и отмечаются основные преимущества и недостатки описываемых методов. Книга \"Методы искусственного интеллекта\" Осипова Г.С. представляет обзор различных методов и подходов к созданию интеллектуальных систем. Рассматриваются алгоритмы обучения с подкреплением, включая методы обучения с учителем и без учителя. Также обсуждаются вопросы локальной организации интеллектуальных систем и их применения в различных областях.' info=None\n",
      "answer='Книга \"Введение в методы машинного обучения с подкреплением\" рассматривает методы машинного обучения с подкреплением, включая методы динамического программирования, методы временных разностей, градиентные и иерархические методы. Книга \"Методы искусственного интеллекта\" Осипова Г.С. представляет обзор различных методов и подходов к созданию интеллектуальных систем.' info=None\n"
     ]
    }
   ],
   "source": [
    "for req in requests:\n",
    "    model_ans = srv.add_task(req)\n",
    "    print(model_ans)"
   ]
  },
  {
   "cell_type": "code",
   "execution_count": null,
   "metadata": {},
   "outputs": [],
   "source": []
  }
 ],
 "metadata": {
  "kernelspec": {
   "display_name": "cogers",
   "language": "python",
   "name": "python3"
  },
  "language_info": {
   "codemirror_mode": {
    "name": "ipython",
    "version": 3
   },
   "file_extension": ".py",
   "mimetype": "text/x-python",
   "name": "python",
   "nbconvert_exporter": "python",
   "pygments_lexer": "ipython3",
   "version": "3.10.14"
  }
 },
 "nbformat": 4,
 "nbformat_minor": 2
}
